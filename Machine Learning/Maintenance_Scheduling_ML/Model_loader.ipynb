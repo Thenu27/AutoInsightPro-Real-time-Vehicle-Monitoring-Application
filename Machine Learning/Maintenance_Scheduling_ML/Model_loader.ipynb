{
 "cells": [
  {
   "cell_type": "code",
   "execution_count": 1,
   "id": "e9559913",
   "metadata": {},
   "outputs": [],
   "source": [
    "import joblib\n",
    "import pandas as pd\n",
    "import numpy as np\n",
    "import pickle"
   ]
  },
  {
   "cell_type": "code",
   "execution_count": 2,
   "id": "c2c7915a",
   "metadata": {},
   "outputs": [],
   "source": [
    "with open('MSmodel.pkl','rb') as file:\n",
    "    loaded_model = pickle.load(file)"
   ]
  },
  {
   "cell_type": "code",
   "execution_count": 3,
   "id": "ee1f0a4b",
   "metadata": {},
   "outputs": [],
   "source": [
    "le1 = joblib.load('le1.joblib')\n",
    "sc = joblib.load('sc.joblib')\n",
    "loaded_model = joblib.load('multi_output_model.joblib')\n",
    "\n",
    "engine_type = 'petrol'  \n",
    "mileage_range = 10000 \n",
    "mileage = 5000\n",
    "\n",
    "engine_type_encoded = le1.transform([engine_type])[0]\n",
    "features_to_scale = [[engine_type_encoded, mileage_range, mileage]]\n",
    "scaled_features = sc.transform(features_to_scale)"
   ]
  },
  {
   "cell_type": "code",
   "execution_count": 4,
   "id": "7a349871",
   "metadata": {},
   "outputs": [],
   "source": [
    "prediction = loaded_model.predict(scaled_features)"
   ]
  },
  {
   "cell_type": "code",
   "execution_count": 5,
   "id": "0c3800d4",
   "metadata": {},
   "outputs": [
    {
     "data": {
      "text/plain": [
       "array([[1, 0, 0, 0, 0, 0, 0, 1, 1, 0, 0, 0, 0]], dtype=int64)"
      ]
     },
     "execution_count": 5,
     "metadata": {},
     "output_type": "execute_result"
    }
   ],
   "source": [
    "prediction"
   ]
  },
  {
   "cell_type": "code",
   "execution_count": 7,
   "id": "833829d6",
   "metadata": {},
   "outputs": [],
   "source": [
    "# from flask import Flask, request, jsonify\n",
    "\n",
    "# app = Flask(__name__)\n",
    "\n",
    "# @app.route('/predict', methods=['POST'])\n",
    "# def predict():\n",
    "#     # Parse request data\n",
    "#     data = request.get_json()\n",
    "#     engine_type = data['engine_type']\n",
    "#     mileage_range = data['mileage_range']\n",
    "#     mileage = data['mileage']\n",
    "\n",
    "#     # Process input data\n",
    "#     engine_type_encoded = le1.transform([engine_type])[0]\n",
    "#     features_to_scale = [[engine_type_encoded, mileage_range, mileage]]\n",
    "#     scaled_features = sc.transform(features_to_scale)\n",
    "\n",
    "#     # Make prediction\n",
    "#     prediction = loaded_model.predict(scaled_features)\n",
    "\n",
    "#     # Convert prediction to list (if needed) and return response\n",
    "#     return jsonify(prediction.tolist())\n",
    "\n",
    "# if __name__ == '__main__':\n",
    "#     app.run(debug=True, port=8888, use_reloader=False)"
   ]
  },
  {
   "cell_type": "code",
   "execution_count": null,
   "id": "96a6315b",
   "metadata": {},
   "outputs": [],
   "source": []
  },
  {
   "cell_type": "code",
   "execution_count": null,
   "id": "7b66026b",
   "metadata": {},
   "outputs": [],
   "source": []
  }
 ],
 "metadata": {
  "kernelspec": {
   "display_name": "Python 3 (ipykernel)",
   "language": "python",
   "name": "python3"
  },
  "language_info": {
   "codemirror_mode": {
    "name": "ipython",
    "version": 3
   },
   "file_extension": ".py",
   "mimetype": "text/x-python",
   "name": "python",
   "nbconvert_exporter": "python",
   "pygments_lexer": "ipython3",
   "version": "3.11.5"
  }
 },
 "nbformat": 4,
 "nbformat_minor": 5
}
