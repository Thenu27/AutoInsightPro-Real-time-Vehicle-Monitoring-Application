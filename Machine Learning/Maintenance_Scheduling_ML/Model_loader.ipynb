{
 "cells": [
  {
   "cell_type": "code",
   "execution_count": 37,
   "id": "988413b2",
   "metadata": {},
   "outputs": [],
   "source": [
    "import joblib\n",
    "import pandas as pd\n",
    "import numpy as np\n",
    "import pickle"
   ]
  },
  {
   "cell_type": "code",
   "execution_count": 38,
   "id": "33d837e4",
   "metadata": {},
   "outputs": [],
   "source": [
    "# def load_model (model_path=\"MSmodel.pkl\"):\n",
    "#     with open(model_path, \"rb\") as file:\n",
    "#         loaded_model = pickle.load(file)\n",
    "#     return loaded_model\n",
    "\n",
    "with open('MSmodel.pkl','rb') as file:\n",
    "    loaded_model = pickle.load(file)"
   ]
  },
  {
   "cell_type": "code",
   "execution_count": 80,
   "id": "efb846be",
   "metadata": {},
   "outputs": [],
   "source": [
    "le1 = joblib.load('le1.joblib')\n",
    "sc = joblib.load('sc.joblib')\n",
    "loaded_model = joblib.load('multi_output_model.joblib')\n",
    "\n",
    "engine_type = 'diesel'  \n",
    "mileage_range = 10 \n",
    "mileage = 5000\n",
    "\n",
    "engine_type_encoded = le1.transform([engine_type])[0]\n",
    "features_to_scale = [[engine_type_encoded, mileage_range, mileage]]\n",
    "scaled_features = sc.transform(features_to_scale)"
   ]
  },
  {
   "cell_type": "code",
   "execution_count": 81,
   "id": "8e64d417",
   "metadata": {},
   "outputs": [],
   "source": [
    "prediction = loaded_model.predict(scaled_features)"
   ]
  },
  {
   "cell_type": "code",
   "execution_count": 82,
   "id": "dfb0969a",
   "metadata": {},
   "outputs": [
    {
     "data": {
      "text/plain": [
       "array([[1, 0, 0, 0, 0, 0, 0, 1, 1, 0, 0, 1, 1]], dtype=int64)"
      ]
     },
     "execution_count": 82,
     "metadata": {},
     "output_type": "execute_result"
    }
   ],
   "source": [
    "prediction"
   ]
  },
  {
   "cell_type": "code",
   "execution_count": null,
   "id": "03c4273a",
   "metadata": {},
   "outputs": [],
   "source": []
  }
 ],
 "metadata": {
  "kernelspec": {
   "display_name": "Python 3 (ipykernel)",
   "language": "python",
   "name": "python3"
  },
  "language_info": {
   "codemirror_mode": {
    "name": "ipython",
    "version": 3
   },
   "file_extension": ".py",
   "mimetype": "text/x-python",
   "name": "python",
   "nbconvert_exporter": "python",
   "pygments_lexer": "ipython3",
   "version": "3.11.5"
  }
 },
 "nbformat": 4,
 "nbformat_minor": 5
}
