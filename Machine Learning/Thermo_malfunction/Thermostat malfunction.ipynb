{
 "cells": [
  {
   "cell_type": "code",
   "execution_count": 1,
   "id": "13988a61",
   "metadata": {},
   "outputs": [
    {
     "name": "stdout",
     "output_type": "stream",
     "text": [
      "Thermostat malfunction detected.\n"
     ]
    }
   ],
   "source": [
    "import pandas as pd\n",
    "from sklearn.model_selection import train_test_split\n",
    "from sklearn.ensemble import RandomForestClassifier\n",
    "\n",
    "\n",
    "# Load the dataset\n",
    "data = pd.read_csv('data.csv')\n",
    "\n",
    "# Define features (input variables) and target (output variable)\n",
    "features = data.drop(columns=['COOLANT_TEMPERATURE ()'])  # Exclude the target variable\n",
    "target = ((data['COOLANT_TEMPERATURE ()'] < 185) | (data['COOLANT_TEMPERATURE ()'] > 205)).astype(int)  # Threshold for malfunction\n",
    "\n",
    "# Split the data into training and testing sets\n",
    "X_train, X_test, y_train, y_test = train_test_split(features, target, test_size=0.2, random_state=42)\n",
    "\n",
    "# Initialize and train a Random Forest classifier\n",
    "clf = RandomForestClassifier(n_estimators=100, random_state=42)\n",
    "clf.fit(X_train, y_train)\n",
    "\n",
    "# Predict coolant temperature malfunction using the trained classifier\n",
    "y_pred = clf.predict(X_test)\n",
    "\n",
    "\n",
    "# Check if there is a malfunction in the data\n",
    "malfunction_present = any(y_pred)\n",
    "if malfunction_present:\n",
    "    print(\"Thermostat malfunction detected.\")\n",
    "else:\n",
    "    print(\"No thermostat malfunction detected.\")\n"
   ]
  },
  {
   "cell_type": "code",
   "execution_count": null,
   "id": "8cac3396",
   "metadata": {},
   "outputs": [],
   "source": []
  },
  {
   "cell_type": "code",
   "execution_count": null,
   "id": "4efa4b8e",
   "metadata": {},
   "outputs": [],
   "source": []
  }
 ],
 "metadata": {
  "kernelspec": {
   "display_name": "Python 3 (ipykernel)",
   "language": "python",
   "name": "python3"
  },
  "language_info": {
   "codemirror_mode": {
    "name": "ipython",
    "version": 3
   },
   "file_extension": ".py",
   "mimetype": "text/x-python",
   "name": "python",
   "nbconvert_exporter": "python",
   "pygments_lexer": "ipython3",
   "version": "3.11.5"
  }
 },
 "nbformat": 4,
 "nbformat_minor": 5
}
