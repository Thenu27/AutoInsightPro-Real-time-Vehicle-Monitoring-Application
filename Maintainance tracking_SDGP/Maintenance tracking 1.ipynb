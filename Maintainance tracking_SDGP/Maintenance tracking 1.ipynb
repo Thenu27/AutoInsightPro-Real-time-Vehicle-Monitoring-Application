{
 "cells": [
  {
   "cell_type": "code",
   "execution_count": 1,
   "id": "44e49abf",
   "metadata": {},
   "outputs": [],
   "source": [
    "import numpy as np\n",
    "import pandas as pd"
   ]
  },
  {
   "cell_type": "code",
   "execution_count": 2,
   "id": "2772b13f",
   "metadata": {},
   "outputs": [],
   "source": [
    "dataset=pd.read_csv('Vehicle Maintenance- Service Records.csv')"
   ]
  },
  {
   "cell_type": "code",
   "execution_count": 3,
   "id": "e23c8474",
   "metadata": {},
   "outputs": [],
   "source": [
    "x=dataset.iloc[:, [4,5,7,8]].values\n",
    "y=dataset.iloc[:,15].values"
   ]
  },
  {
   "cell_type": "code",
   "execution_count": 4,
   "id": "163868de",
   "metadata": {},
   "outputs": [
    {
     "name": "stdout",
     "output_type": "stream",
     "text": [
      "[['petrol' 2017 10000 11400]\n",
      " ['petrol' 2017 10000 11453]\n",
      " ['petrol' 2017 10000 10706]\n",
      " ...\n",
      " ['diesel' 2016 100000 106788]\n",
      " ['diesel' 2016 100000 112576]\n",
      " ['diesel' 2016 100000 110757]]\n",
      "[0 0 0 ... 1 1 1]\n"
     ]
    }
   ],
   "source": [
    "print(x)\n",
    "print(y)"
   ]
  },
  {
   "cell_type": "markdown",
   "id": "92f79eb7",
   "metadata": {},
   "source": [
    "# Data Preprocessing"
   ]
  },
  {
   "cell_type": "code",
   "execution_count": 5,
   "id": "c6c37346",
   "metadata": {},
   "outputs": [],
   "source": [
    "from sklearn.impute import SimpleImputer\n",
    "imputer = SimpleImputer(missing_values = np.nan,strategy = 'most_frequent')\n",
    "imputer.fit(x[:,1:])\n",
    "x[:,1:]=imputer.transform(x[:,1:])\n"
   ]
  },
  {
   "cell_type": "code",
   "execution_count": 6,
   "id": "f847a26c",
   "metadata": {},
   "outputs": [
    {
     "name": "stdout",
     "output_type": "stream",
     "text": [
      "[['petrol' 2017 10000 11400]\n",
      " ['petrol' 2017 10000 11453]\n",
      " ['petrol' 2017 10000 10706]\n",
      " ...\n",
      " ['diesel' 2016 100000 106788]\n",
      " ['diesel' 2016 100000 112576]\n",
      " ['diesel' 2016 100000 110757]]\n"
     ]
    }
   ],
   "source": [
    "print(x)"
   ]
  },
  {
   "cell_type": "markdown",
   "id": "5c18d75f",
   "metadata": {},
   "source": [
    "# Label Encoding\n"
   ]
  },
  {
   "cell_type": "code",
   "execution_count": 7,
   "id": "d219abe3",
   "metadata": {},
   "outputs": [],
   "source": [
    "from sklearn.preprocessing import LabelEncoder\n"
   ]
  },
  {
   "cell_type": "code",
   "execution_count": 13,
   "id": "a55e4ccd",
   "metadata": {},
   "outputs": [],
   "source": [
    "le0 = LabelEncoder()\n",
    "x[:,0] = le4.fit_transform(x[:,0])"
   ]
  },
  {
   "cell_type": "code",
   "execution_count": 14,
   "id": "7db260e1",
   "metadata": {},
   "outputs": [
    {
     "name": "stdout",
     "output_type": "stream",
     "text": [
      "[[1 1 10000 11400]\n",
      " [1 1 10000 11453]\n",
      " [1 1 10000 10706]\n",
      " ...\n",
      " [0 0 100000 106788]\n",
      " [0 0 100000 112576]\n",
      " [0 0 100000 110757]]\n"
     ]
    }
   ],
   "source": [
    "print(x)\n"
   ]
  },
  {
   "cell_type": "code",
   "execution_count": 16,
   "id": "72e4984f",
   "metadata": {},
   "outputs": [
    {
     "name": "stdout",
     "output_type": "stream",
     "text": [
      "[0 0 0 ... 1 1 1]\n"
     ]
    }
   ],
   "source": [
    "print(y)"
   ]
  },
  {
   "cell_type": "markdown",
   "id": "4b88ab29",
   "metadata": {},
   "source": [
    "# Splitting Dataset into training set and Test set\n"
   ]
  },
  {
   "cell_type": "code",
   "execution_count": 17,
   "id": "ef9c8c52",
   "metadata": {},
   "outputs": [],
   "source": [
    "from sklearn.model_selection import train_test_split"
   ]
  },
  {
   "cell_type": "code",
   "execution_count": 18,
   "id": "3ba3e7b6",
   "metadata": {},
   "outputs": [],
   "source": [
    "X_train, X_test, Y_train, Y_test = train_test_split(x,y,test_size = 0.2, random_state=0)"
   ]
  },
  {
   "cell_type": "code",
   "execution_count": 19,
   "id": "0a914eff",
   "metadata": {},
   "outputs": [
    {
     "name": "stdout",
     "output_type": "stream",
     "text": [
      "[[0 0 80000 85743]\n",
      " [0 0 50000 50900]\n",
      " [0 0 100000 112722]\n",
      " ...\n",
      " [0 0 10000 9068]\n",
      " [0 0 30000 30012]\n",
      " [1 1 20000 20634]]\n"
     ]
    }
   ],
   "source": [
    "print(X_train)"
   ]
  },
  {
   "cell_type": "code",
   "execution_count": 20,
   "id": "d32c86c1",
   "metadata": {},
   "outputs": [
    {
     "name": "stdout",
     "output_type": "stream",
     "text": [
      "[[1 1 10000 10654]\n",
      " [0 0 30000 31225]\n",
      " [0 0 80000 90624]\n",
      " [0 0 20000 21000]\n",
      " [0 0 100000 110757]\n",
      " [0 0 60000 61379]\n",
      " [0 0 40000 39236]\n",
      " [0 0 40000 41382]\n",
      " [0 0 60000 60322]\n",
      " [0 0 40000 40283]\n",
      " [1 1 40000 40283]\n",
      " [1 1 10000 11009]\n",
      " [0 0 30000 30257]\n",
      " [0 0 50000 50438]\n",
      " [0 0 40000 41098]\n",
      " [0 0 20000 22398]\n",
      " [0 0 10000 10003]\n",
      " [0 0 70000 71253]\n",
      " [0 0 70000 70753]\n",
      " [1 1 10000 10980]\n",
      " [1 1 50000 53909]\n",
      " [0 0 20000 19009]\n",
      " [1 1 80000 89233]\n",
      " [1 1 30000 31820]\n",
      " [0 0 20000 20657]\n",
      " [0 0 70000 70789]\n",
      " [1 1 50000 50034]\n",
      " [1 1 40000 42657]\n",
      " [1 1 60000 59262]\n",
      " [0 0 50000 49878]\n",
      " [0 0 70000 71580]\n",
      " [1 1 80000 88431]\n",
      " [0 0 30000 30382]\n",
      " [0 0 20000 20158]\n",
      " [0 0 20000 20243]\n",
      " [1 1 50000 50283]\n",
      " [0 0 60000 60909]\n",
      " [0 0 30000 30382]\n",
      " [1 1 20000 19423]\n",
      " [0 0 40000 40722]\n",
      " [1 1 50000 50342]\n",
      " [0 0 30000 34543]\n",
      " [0 0 70000 70747]\n",
      " [1 1 30000 30545]\n",
      " [0 0 100000 128699]\n",
      " [1 1 70000 70976]\n",
      " [0 0 40000 40368]\n",
      " [1 1 60000 60632]\n",
      " [0 0 40000 43298]\n",
      " [0 0 20000 20453]\n",
      " [1 1 60000 60347]\n",
      " [0 0 10000 11028]\n",
      " [0 0 70000 70765]\n",
      " [1 1 70000 69923]\n",
      " [0 0 10000 10376]\n",
      " [0 0 40000 40289]\n",
      " [1 1 40000 40282]\n",
      " [0 0 70000 69432]\n",
      " [0 0 20000 20474]\n",
      " [0 0 50000 50755]\n",
      " [0 0 60000 60632]\n",
      " [1 1 80000 83842]\n",
      " [1 1 40000 40483]\n",
      " [0 0 70000 70765]\n",
      " [0 0 20000 20274]\n",
      " [1 1 60000 60437]\n",
      " [1 1 40000 40231]\n",
      " [0 0 60000 60465]\n",
      " [0 0 30000 30540]\n",
      " [1 1 10000 10326]\n",
      " [1 1 60000 60343]\n",
      " [0 0 20000 22567]\n",
      " [0 0 70000 70134]\n",
      " [0 0 50000 50892]\n",
      " [1 1 10000 11034]\n",
      " [0 0 100000 106788]\n",
      " [1 1 70000 70347]\n",
      " [1 1 60000 60694]\n",
      " [1 1 30000 30317]\n",
      " [1 1 20000 20575]\n",
      " [0 0 10000 10232]\n",
      " [0 2 10000 10923]\n",
      " [0 0 30000 30142]\n",
      " [1 1 20000 20897]\n",
      " [1 1 10000 11753]\n",
      " [0 0 60000 60321]\n",
      " [0 0 50000 51250]\n",
      " [1 1 100000 94378]\n",
      " [1 1 60000 60544]\n",
      " [1 1 60000 60765]\n",
      " [0 0 10000 10438]\n",
      " [1 1 60000 60353]\n",
      " [0 0 70000 70789]\n",
      " [0 0 60000 61379]\n",
      " [1 1 40000 40289]\n",
      " [1 1 30000 30832]\n",
      " [0 0 50000 52000]\n",
      " [1 1 60000 60383]\n",
      " [1 1 70000 70327]\n",
      " [0 0 30000 30087]\n",
      " [1 1 80000 85834]\n",
      " [1 1 20000 21382]\n",
      " [1 1 20000 20756]\n",
      " [0 0 100000 103832]\n",
      " [0 0 40000 39236]\n",
      " [1 1 40000 40368]\n",
      " [0 0 60000 60765]\n",
      " [1 1 20000 21567]\n",
      " [0 0 40000 40221]\n",
      " [0 0 40000 40282]\n",
      " [0 0 70000 71938]\n",
      " [0 0 100000 103337]\n",
      " [0 0 50000 49622]\n",
      " [0 0 50000 50237]\n",
      " [0 0 60000 60977]\n",
      " [1 1 70000 70237]\n",
      " [0 0 10000 10021]\n",
      " [0 0 40000 40568]\n",
      " [0 0 30000 30863]\n",
      " [1 1 50000 50373]\n",
      " [0 0 30000 29837]\n",
      " [0 0 50000 51437]\n",
      " [0 0 30000 32292]\n",
      " [1 1 10000 11453]\n",
      " [1 1 20000 20453]\n",
      " [0 0 20000 21867]\n",
      " [0 0 70000 70438]\n",
      " [0 0 40000 43221]\n",
      " [0 0 80000 80628]\n",
      " [0 0 70000 70985]\n",
      " [0 0 100000 94632]\n",
      " [1 1 40000 40775]\n",
      " [0 0 60000 60347]\n",
      " [0 0 50000 50896]\n",
      " [0 0 100000 90272]\n",
      " [1 1 30000 30272]\n",
      " [0 0 20000 20989]\n",
      " [1 1 50000 50347]\n",
      " [0 0 40000 40098]\n",
      " [1 1 50000 53909]\n",
      " [0 0 60000 60080]\n",
      " [0 0 70000 69498]\n",
      " [1 1 100000 90473]\n",
      " [1 1 70000 70232]\n",
      " [0 0 50000 50789]\n",
      " [1 1 50000 51427]\n",
      " [0 0 30000 30286]\n",
      " [0 0 10000 10003]\n",
      " [0 0 20000 20655]\n",
      " [1 1 20000 19236]\n",
      " [0 0 30000 30544]\n",
      " [1 1 40000 40231]\n",
      " [0 0 60000 65093]\n",
      " [0 0 60000 60272]\n",
      " [0 0 10000 10302]\n",
      " [1 1 70000 69923]\n",
      " [0 0 30000 30909]\n",
      " [0 0 30000 30987]\n",
      " [0 0 20000 21000]\n",
      " [0 0 20000 19467]\n",
      " [0 0 20000 19732]\n",
      " [0 0 40000 40221]\n",
      " [0 0 100000 103282]\n",
      " [0 0 100000 112576]\n",
      " [0 0 60000 60432]\n",
      " [0 0 80000 89843]\n",
      " [1 1 100000 101302]\n",
      " [1 1 30000 30765]\n",
      " [0 0 20000 20657]\n",
      " [1 1 70000 70432]\n",
      " [0 0 60000 59760]\n",
      " [0 0 70000 70098]\n",
      " [1 1 50000 50373]\n",
      " [1 1 30000 30980]\n",
      " [1 1 60000 60734]\n",
      " [1 1 60000 60347]\n",
      " [1 1 50000 50578]\n",
      " [0 0 70000 70346]\n",
      " [1 1 10000 10048]\n",
      " [0 0 40000 40643]\n",
      " [1 1 30000 30998]\n",
      " [0 0 50000 52500]\n",
      " [0 0 10000 10766]\n",
      " [1 1 70000 71372]\n",
      " [0 0 20000 20475]\n",
      " [0 0 50000 50659]\n",
      " [0 0 20000 21382]\n",
      " [1 1 50000 50231]\n",
      " [0 0 10000 10843]\n",
      " [0 0 60000 60934]\n",
      " [0 0 60000 60789]\n",
      " [0 0 70000 70824]\n",
      " [0 0 10000 10657]\n",
      " [0 0 30000 30612]\n",
      " [1 1 30000 29625]\n",
      " [1 1 20000 20432]\n",
      " [1 1 10000 9831]\n",
      " [0 0 10000 10686]\n",
      " [0 0 30000 30002]\n",
      " [0 0 100000 94373]\n",
      " [0 0 70000 70753]\n",
      " [1 1 50000 50012]\n",
      " [0 0 50000 50232]\n",
      " [0 0 70000 70087]\n",
      " [0 0 20000 20009]\n",
      " [0 0 50000 51452]\n",
      " [0 0 20000 23000]\n",
      " [0 0 10000 10200]\n",
      " [1 1 10000 11468]\n",
      " [0 0 60000 60879]\n",
      " [1 1 70000 70764]\n",
      " [0 0 30000 30438]\n",
      " [0 0 80000 90382]\n",
      " [0 0 40000 40078]\n",
      " [0 0 40000 40483]\n",
      " [0 0 10000 9992]\n",
      " [0 0 20000 15559]\n",
      " [0 0 30000 30463]\n",
      " [1 1 50000 50722]\n",
      " [1 1 80000 89843]\n",
      " [0 0 70000 70311]\n",
      " [1 1 40000 41238]\n",
      " [0 0 10000 10843]\n",
      " [0 0 70000 71009]\n",
      " [0 0 40000 40932]\n",
      " [0 0 100000 91263]\n",
      " [1 1 20000 21865]\n",
      " [0 0 10000 10078]]\n"
     ]
    }
   ],
   "source": [
    "print(X_test)"
   ]
  },
  {
   "cell_type": "markdown",
   "id": "2cf7bc2e",
   "metadata": {},
   "source": [
    "# Feature Scaling \n"
   ]
  },
  {
   "cell_type": "code",
   "execution_count": 24,
   "id": "8d1794bc",
   "metadata": {},
   "outputs": [],
   "source": [
    "from sklearn.preprocessing import StandardScaler\n",
    "sc = StandardScaler()\n",
    "X_train = sc.fit_transform(X_train)\n",
    "X_test = sc.fit_transform(X_test)\n"
   ]
  },
  {
   "cell_type": "code",
   "execution_count": 25,
   "id": "a456407e",
   "metadata": {},
   "outputs": [
    {
     "name": "stdout",
     "output_type": "stream",
     "text": [
      "[[-0.88081125 -0.88081125  1.39872499  1.51509915]\n",
      " [-0.88081125 -0.88081125  0.18593457  0.16845176]\n",
      " [-0.88081125 -0.88081125  2.20725194  2.55781073]\n",
      " ...\n",
      " [-0.88081125 -0.88081125 -1.43111932 -1.44831353]\n",
      " [-0.88081125 -0.88081125 -0.62259237 -0.63884871]\n",
      " [ 1.13531701  1.13531701 -1.02685585 -1.00129911]]\n"
     ]
    }
   ],
   "source": [
    "print(X_train)"
   ]
  },
  {
   "cell_type": "code",
   "execution_count": 26,
   "id": "2f72ab93",
   "metadata": {},
   "outputs": [
    {
     "data": {
      "text/html": [
       "<style>#sk-container-id-1 {color: black;}#sk-container-id-1 pre{padding: 0;}#sk-container-id-1 div.sk-toggleable {background-color: white;}#sk-container-id-1 label.sk-toggleable__label {cursor: pointer;display: block;width: 100%;margin-bottom: 0;padding: 0.3em;box-sizing: border-box;text-align: center;}#sk-container-id-1 label.sk-toggleable__label-arrow:before {content: \"▸\";float: left;margin-right: 0.25em;color: #696969;}#sk-container-id-1 label.sk-toggleable__label-arrow:hover:before {color: black;}#sk-container-id-1 div.sk-estimator:hover label.sk-toggleable__label-arrow:before {color: black;}#sk-container-id-1 div.sk-toggleable__content {max-height: 0;max-width: 0;overflow: hidden;text-align: left;background-color: #f0f8ff;}#sk-container-id-1 div.sk-toggleable__content pre {margin: 0.2em;color: black;border-radius: 0.25em;background-color: #f0f8ff;}#sk-container-id-1 input.sk-toggleable__control:checked~div.sk-toggleable__content {max-height: 200px;max-width: 100%;overflow: auto;}#sk-container-id-1 input.sk-toggleable__control:checked~label.sk-toggleable__label-arrow:before {content: \"▾\";}#sk-container-id-1 div.sk-estimator input.sk-toggleable__control:checked~label.sk-toggleable__label {background-color: #d4ebff;}#sk-container-id-1 div.sk-label input.sk-toggleable__control:checked~label.sk-toggleable__label {background-color: #d4ebff;}#sk-container-id-1 input.sk-hidden--visually {border: 0;clip: rect(1px 1px 1px 1px);clip: rect(1px, 1px, 1px, 1px);height: 1px;margin: -1px;overflow: hidden;padding: 0;position: absolute;width: 1px;}#sk-container-id-1 div.sk-estimator {font-family: monospace;background-color: #f0f8ff;border: 1px dotted black;border-radius: 0.25em;box-sizing: border-box;margin-bottom: 0.5em;}#sk-container-id-1 div.sk-estimator:hover {background-color: #d4ebff;}#sk-container-id-1 div.sk-parallel-item::after {content: \"\";width: 100%;border-bottom: 1px solid gray;flex-grow: 1;}#sk-container-id-1 div.sk-label:hover label.sk-toggleable__label {background-color: #d4ebff;}#sk-container-id-1 div.sk-serial::before {content: \"\";position: absolute;border-left: 1px solid gray;box-sizing: border-box;top: 0;bottom: 0;left: 50%;z-index: 0;}#sk-container-id-1 div.sk-serial {display: flex;flex-direction: column;align-items: center;background-color: white;padding-right: 0.2em;padding-left: 0.2em;position: relative;}#sk-container-id-1 div.sk-item {position: relative;z-index: 1;}#sk-container-id-1 div.sk-parallel {display: flex;align-items: stretch;justify-content: center;background-color: white;position: relative;}#sk-container-id-1 div.sk-item::before, #sk-container-id-1 div.sk-parallel-item::before {content: \"\";position: absolute;border-left: 1px solid gray;box-sizing: border-box;top: 0;bottom: 0;left: 50%;z-index: -1;}#sk-container-id-1 div.sk-parallel-item {display: flex;flex-direction: column;z-index: 1;position: relative;background-color: white;}#sk-container-id-1 div.sk-parallel-item:first-child::after {align-self: flex-end;width: 50%;}#sk-container-id-1 div.sk-parallel-item:last-child::after {align-self: flex-start;width: 50%;}#sk-container-id-1 div.sk-parallel-item:only-child::after {width: 0;}#sk-container-id-1 div.sk-dashed-wrapped {border: 1px dashed gray;margin: 0 0.4em 0.5em 0.4em;box-sizing: border-box;padding-bottom: 0.4em;background-color: white;}#sk-container-id-1 div.sk-label label {font-family: monospace;font-weight: bold;display: inline-block;line-height: 1.2em;}#sk-container-id-1 div.sk-label-container {text-align: center;}#sk-container-id-1 div.sk-container {/* jupyter's `normalize.less` sets `[hidden] { display: none; }` but bootstrap.min.css set `[hidden] { display: none !important; }` so we also need the `!important` here to be able to override the default hidden behavior on the sphinx rendered scikit-learn.org. See: https://github.com/scikit-learn/scikit-learn/issues/21755 */display: inline-block !important;position: relative;}#sk-container-id-1 div.sk-text-repr-fallback {display: none;}</style><div id=\"sk-container-id-1\" class=\"sk-top-container\"><div class=\"sk-text-repr-fallback\"><pre>XGBClassifier(base_score=None, booster=None, callbacks=None,\n",
       "              colsample_bylevel=None, colsample_bynode=None,\n",
       "              colsample_bytree=None, device=None, early_stopping_rounds=None,\n",
       "              enable_categorical=False, eval_metric=None, feature_types=None,\n",
       "              gamma=None, grow_policy=None, importance_type=None,\n",
       "              interaction_constraints=None, learning_rate=None, max_bin=None,\n",
       "              max_cat_threshold=None, max_cat_to_onehot=None,\n",
       "              max_delta_step=None, max_depth=None, max_leaves=None,\n",
       "              min_child_weight=None, missing=nan, monotone_constraints=None,\n",
       "              multi_strategy=None, n_estimators=None, n_jobs=None,\n",
       "              num_parallel_tree=None, random_state=None, ...)</pre><b>In a Jupyter environment, please rerun this cell to show the HTML representation or trust the notebook. <br />On GitHub, the HTML representation is unable to render, please try loading this page with nbviewer.org.</b></div><div class=\"sk-container\" hidden><div class=\"sk-item\"><div class=\"sk-estimator sk-toggleable\"><input class=\"sk-toggleable__control sk-hidden--visually\" id=\"sk-estimator-id-1\" type=\"checkbox\" checked><label for=\"sk-estimator-id-1\" class=\"sk-toggleable__label sk-toggleable__label-arrow\">XGBClassifier</label><div class=\"sk-toggleable__content\"><pre>XGBClassifier(base_score=None, booster=None, callbacks=None,\n",
       "              colsample_bylevel=None, colsample_bynode=None,\n",
       "              colsample_bytree=None, device=None, early_stopping_rounds=None,\n",
       "              enable_categorical=False, eval_metric=None, feature_types=None,\n",
       "              gamma=None, grow_policy=None, importance_type=None,\n",
       "              interaction_constraints=None, learning_rate=None, max_bin=None,\n",
       "              max_cat_threshold=None, max_cat_to_onehot=None,\n",
       "              max_delta_step=None, max_depth=None, max_leaves=None,\n",
       "              min_child_weight=None, missing=nan, monotone_constraints=None,\n",
       "              multi_strategy=None, n_estimators=None, n_jobs=None,\n",
       "              num_parallel_tree=None, random_state=None, ...)</pre></div></div></div></div></div>"
      ],
      "text/plain": [
       "XGBClassifier(base_score=None, booster=None, callbacks=None,\n",
       "              colsample_bylevel=None, colsample_bynode=None,\n",
       "              colsample_bytree=None, device=None, early_stopping_rounds=None,\n",
       "              enable_categorical=False, eval_metric=None, feature_types=None,\n",
       "              gamma=None, grow_policy=None, importance_type=None,\n",
       "              interaction_constraints=None, learning_rate=None, max_bin=None,\n",
       "              max_cat_threshold=None, max_cat_to_onehot=None,\n",
       "              max_delta_step=None, max_depth=None, max_leaves=None,\n",
       "              min_child_weight=None, missing=nan, monotone_constraints=None,\n",
       "              multi_strategy=None, n_estimators=None, n_jobs=None,\n",
       "              num_parallel_tree=None, random_state=None, ...)"
      ]
     },
     "execution_count": 26,
     "metadata": {},
     "output_type": "execute_result"
    }
   ],
   "source": [
    "from xgboost import XGBClassifier\n",
    "model = XGBClassifier()\n",
    "model.fit(X_train, Y_train)\n"
   ]
  },
  {
   "cell_type": "code",
   "execution_count": 29,
   "id": "c73c245d",
   "metadata": {},
   "outputs": [],
   "source": [
    "from sklearn.metrics import confusion_matrix\n",
    "from sklearn.metrics import accuracy_score\n",
    "y_pred = model.predict(X_test)\n",
    "cm = confusion_matrix(Y_test, y_pred)\n"
   ]
  },
  {
   "cell_type": "code",
   "execution_count": 30,
   "id": "28bcb006",
   "metadata": {},
   "outputs": [
    {
     "name": "stdout",
     "output_type": "stream",
     "text": [
      "[[84 73]\n",
      " [67  4]]\n"
     ]
    }
   ],
   "source": [
    "print(cm)"
   ]
  },
  {
   "cell_type": "code",
   "execution_count": 31,
   "id": "43844a87",
   "metadata": {},
   "outputs": [
    {
     "data": {
      "text/plain": [
       "0.38596491228070173"
      ]
     },
     "execution_count": 31,
     "metadata": {},
     "output_type": "execute_result"
    }
   ],
   "source": [
    "accuracy_score(Y_test,y_pred)"
   ]
  },
  {
   "cell_type": "code",
   "execution_count": 38,
   "id": "237a7a5d",
   "metadata": {},
   "outputs": [
    {
     "name": "stdout",
     "output_type": "stream",
     "text": [
      "No need to chnage fuel filter\n"
     ]
    }
   ],
   "source": [
    "result = model.predict(sc.transform([[1, 1, 15000, 11700]]))\n",
    "if result == [0]:\n",
    "    print('No need to chnage fuel filter')\n",
    "else:\n",
    "    print('Need to change the fuel filter')"
   ]
  },
  {
   "cell_type": "code",
   "execution_count": null,
   "id": "22b837b7",
   "metadata": {},
   "outputs": [],
   "source": []
  }
 ],
 "metadata": {
  "kernelspec": {
   "display_name": "Python 3 (ipykernel)",
   "language": "python",
   "name": "python3"
  },
  "language_info": {
   "codemirror_mode": {
    "name": "ipython",
    "version": 3
   },
   "file_extension": ".py",
   "mimetype": "text/x-python",
   "name": "python",
   "nbconvert_exporter": "python",
   "pygments_lexer": "ipython3",
   "version": "3.11.5"
  }
 },
 "nbformat": 4,
 "nbformat_minor": 5
}
